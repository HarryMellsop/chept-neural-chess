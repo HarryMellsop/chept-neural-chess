{
 "metadata": {
  "language_info": {
   "codemirror_mode": {
    "name": "ipython",
    "version": 3
   },
   "file_extension": ".py",
   "mimetype": "text/x-python",
   "name": "python",
   "nbconvert_exporter": "python",
   "pygments_lexer": "ipython3",
   "version": "3.7.9-final"
  },
  "orig_nbformat": 2,
  "kernelspec": {
   "name": "python3",
   "display_name": "Python 3.7.9 64-bit ('local_nmt': conda)",
   "metadata": {
    "interpreter": {
     "hash": "15aac834d94b659c443874b0b437a21c6c17deb398b3f631f85c2f216c7d9b51"
    }
   }
  }
 },
 "nbformat": 4,
 "nbformat_minor": 2,
 "cells": [
  {
   "cell_type": "code",
   "execution_count": 16,
   "metadata": {},
   "outputs": [],
   "source": [
    "import pickle\n",
    "import numpy as np"
   ]
  },
  {
   "cell_type": "code",
   "execution_count": 24,
   "metadata": {},
   "outputs": [],
   "source": [
    "with open('bot_scores.pkl', 'rb') as f:\n",
    "    bot_arr = pickle.load(f)\n",
    "\n",
    "with open('comp_scores.pkl', 'rb') as f:\n",
    "    comp_arr = pickle.load(f)\n",
    "\n",
    "assert len(bot_arr) == len(comp_arr)"
   ]
  },
  {
   "cell_type": "code",
   "execution_count": 25,
   "metadata": {},
   "outputs": [],
   "source": [
    "normalized = []\n",
    "\n",
    "for i in range(len(bot_arr)):\n",
    "    bot_scores = np.array(bot_arr[i])\n",
    "    comp_scores = np.array(comp_arr[i])\n",
    "\n",
    "    diff_arr = bot_scores - comp_scores\n",
    "    norm_factor = np.mean(comp_scores)\n",
    "    normalized.append(diff_arr / np.abs(norm_factor))"
   ]
  },
  {
   "cell_type": "code",
   "execution_count": 29,
   "metadata": {},
   "outputs": [
    {
     "output_type": "stream",
     "name": "stdout",
     "text": [
      "[-0.2963198193430013, -0.15552657319856542]\n"
     ]
    }
   ],
   "source": [
    "avg_scores = [np.mean(x) for x in normalized]\n",
    "print(avg_scores)"
   ]
  },
  {
   "cell_type": "code",
   "execution_count": 30,
   "metadata": {},
   "outputs": [
    {
     "output_type": "stream",
     "name": "stdout",
     "text": [
      "-0.22592319627078333\n"
     ]
    }
   ],
   "source": [
    "total_avg = np.mean(avg_scores)\n",
    "print(total_avg)"
   ]
  },
  {
   "cell_type": "code",
   "execution_count": null,
   "metadata": {},
   "outputs": [],
   "source": []
  }
 ]
}