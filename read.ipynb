{
 "metadata": {
  "language_info": {
   "codemirror_mode": {
    "name": "ipython",
    "version": 3
   },
   "file_extension": ".py",
   "mimetype": "text/x-python",
   "name": "python",
   "nbconvert_exporter": "python",
   "pygments_lexer": "ipython3",
   "version": "3.7.9-final"
  },
  "orig_nbformat": 2,
  "kernelspec": {
   "name": "python3",
   "display_name": "Python 3.7.9 64-bit ('local_nmt': conda)",
   "metadata": {
    "interpreter": {
     "hash": "15aac834d94b659c443874b0b437a21c6c17deb398b3f631f85c2f216c7d9b51"
    }
   }
  }
 },
 "nbformat": 4,
 "nbformat_minor": 2,
 "cells": [
  {
   "cell_type": "code",
   "execution_count": 16,
   "metadata": {},
   "outputs": [],
   "source": [
    "import pickle\n",
    "import numpy as np"
   ]
  },
  {
   "cell_type": "code",
   "execution_count": 31,
   "metadata": {},
   "outputs": [],
   "source": [
    "with open('bot_scores.pkl', 'rb') as f:\n",
    "    bot_arr = pickle.load(f)\n",
    "\n",
    "with open('comp_scores.pkl', 'rb') as f:\n",
    "    comp_arr = pickle.load(f)\n",
    "\n",
    "assert len(bot_arr) == len(comp_arr)"
   ]
  },
  {
   "cell_type": "code",
   "execution_count": 45,
   "metadata": {},
   "outputs": [],
   "source": [
    "normalized = []\n",
    "\n",
    "for i in range(len(bot_arr)):\n",
    "    bot_scores = np.array(bot_arr[i])\n",
    "    comp_scores = np.array(comp_arr[i])\n",
    "\n",
    "    diff_arr = bot_scores - comp_scores\n",
    "    norm_factor = np.mean(np.abs(comp_scores))\n",
    "    normalized.append(diff_arr / norm_factor)"
   ]
  },
  {
   "cell_type": "code",
   "execution_count": 46,
   "metadata": {},
   "outputs": [
    {
     "output_type": "stream",
     "name": "stdout",
     "text": [
      "[-0.16671067687703547, -0.18312784597768486, -0.2045876711737008, -0.8190045248868778, -0.18586288057095132, -0.1378284267173156, -0.3072723048327138, -0.11973350849207096, -0.24964686640398487, -0.045293752091400165, -0.5439146800501882, -0.1966782926424182, -0.38482430826684777, -0.24762487257900104, -0.017539900048363685, -0.44537384772960054, -0.08733321781320397, -0.17816696577758523, -0.2064010450685826, -0.2974232057067987, -0.3206467435734399, -0.06404732344993792, -0.18898462417289472, -0.23275862068965522, -0.5932023366967605, -0.04044587615687478, -0.221044495969968, -0.1306555863342567, -0.19592905606475422, -0.3011570247933884, -0.276285046728972, -0.08331698705374657, -0.040044017851684315, -0.08440000000000003, -0.14955042527339005, -0.39772727272727276, -0.837438970261873, -1.449591280653951, -0.408088905082893, -0.5835322195704057, -0.5801601798510608, -0.20250237998096013, -0.2042234207880062, -0.20143671776642225, -0.33101314771848417, -0.39347727615884037, -0.29780708480294427, -0.11309744841122489, -0.2742064550546813, -0.09437402326792844]\n"
     ]
    }
   ],
   "source": [
    "avg_scores = [np.mean(x) for x in normalized]\n",
    "print(avg_scores)"
   ]
  },
  {
   "cell_type": "code",
   "execution_count": 47,
   "metadata": {},
   "outputs": [
    {
     "output_type": "stream",
     "name": "stdout",
     "text": [
      "-0.28630987481225995\n"
     ]
    }
   ],
   "source": [
    "total_avg = np.mean(avg_scores)\n",
    "print(total_avg)"
   ]
  }
 ]
}