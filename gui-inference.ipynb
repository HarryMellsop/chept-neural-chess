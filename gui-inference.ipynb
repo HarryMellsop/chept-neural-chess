{
 "cells": [
  {
   "cell_type": "code",
   "execution_count": 1,
   "metadata": {},
   "outputs": [],
   "source": [
    "import time\n",
    "import chess\n",
    "import numpy as np\n",
    "import torch\n",
    "import torch.nn as nn\n",
    "from tqdm import tqdm\n",
    "from torch.nn import functional as F\n",
    "import random\n",
    "import dataset\n",
    "import model\n",
    "import trainer\n",
    "import utils\n",
    "import dataset\n",
    "import pickle\n",
    "import IPython.display as vis\n",
    "import chess.engine"
   ]
  },
  {
   "cell_type": "code",
   "execution_count": 2,
   "metadata": {},
   "outputs": [],
   "source": [
    "device = torch.cuda.current_device() if torch.cuda.is_available() else 'cpu'"
   ]
  },
  {
   "cell_type": "code",
   "execution_count": 3,
   "metadata": {},
   "outputs": [
    {
     "name": "stdout",
     "output_type": "stream",
     "text": [
      "Number of parameters: 2452736\n"
     ]
    },
    {
     "data": {
      "text/plain": [
       "<All keys matched successfully>"
      ]
     },
     "execution_count": 3,
     "metadata": {},
     "output_type": "execute_result"
    }
   ],
   "source": [
    "# get ckpt\n",
    "\n",
    "ckpt = torch.load('ckpts/finetune_default/iter_2000.pt', map_location=torch.device(device))\n",
    "model_config = ckpt['model_config']\n",
    "itos = ckpt['itos']\n",
    "stoi = ckpt['stoi']\n",
    "\n",
    "\n",
    "# build model config\n",
    "mconf = model.GPTConfig(\n",
    "    vocab_size=len(itos), \n",
    "    args_dict=model_config.__dict__\n",
    ")\n",
    "\n",
    "# load model weights\n",
    "model = model.GPT(mconf)\n",
    "model = model.to(device)\n",
    "\n",
    "model.load_state_dict(ckpt['state_dict'])"
   ]
  },
  {
   "cell_type": "code",
   "execution_count": 4,
   "metadata": {},
   "outputs": [],
   "source": [
    "MASK_CHAR = u\"\\u2047\""
   ]
  },
  {
   "cell_type": "code",
   "execution_count": 5,
   "metadata": {},
   "outputs": [],
   "source": [
    "def get_prediction(game_str):\n",
    "\n",
    "    x = game_str\n",
    "    x = torch.tensor([stoi[s] for s in x], dtype=torch.long)\n",
    "    x = x.view(1, -1)\n",
    "\n",
    "    model.eval()\n",
    "    with torch.no_grad():\n",
    "\n",
    "        logits, _ = model(x)\n",
    "        logits = torch.squeeze(logits)\n",
    "        y_hat = torch.argmax(logits, dim=-1)\n",
    "        y_hat = [itos[t.item()] for t in y_hat]\n",
    "\n",
    "    pred = y_hat[len(game_str) - 1]\n",
    "    return pred"
   ]
  },
  {
   "cell_type": "code",
   "execution_count": 6,
   "metadata": {},
   "outputs": [],
   "source": [
    "game_str = 'e4 e5 Nf3 Nc6 Nc3 d6 d4 '"
   ]
  },
  {
   "cell_type": "code",
   "execution_count": 7,
   "metadata": {},
   "outputs": [],
   "source": [
    "x = torch.tensor([stoi[s] for s in game_str], dtype=torch.long)[None,...].to(device)\n",
    "pred = utils.sample(model, x, 32, sample=False)[0]"
   ]
  },
  {
   "cell_type": "code",
   "execution_count": 8,
   "metadata": {},
   "outputs": [],
   "source": [
    "pred = ''.join([itos[int(i)] for i in pred])\n",
    "pred = completion.split('⁇')[1]"
   ]
  },
  {
   "cell_type": "code",
   "execution_count": 9,
   "metadata": {},
   "outputs": [
    {
     "data": {
      "text/plain": [
       "'e4 e5 Nf3 Nc6 Nc3 d6 d4 □□□□□□□□□□□□□□□□□□□□□□□□□□□□□□□□'"
      ]
     },
     "execution_count": 9,
     "metadata": {},
     "output_type": "execute_result"
    }
   ],
   "source": [
    "pred"
   ]
  },
  {
   "cell_type": "code",
   "execution_count": null,
   "metadata": {},
   "outputs": [],
   "source": [
    "z = get_prediction(game_str)\n",
    "game_str += z\n",
    "print(game_str)"
   ]
  },
  {
   "cell_type": "code",
   "execution_count": null,
   "metadata": {},
   "outputs": [],
   "source": [
    "# declare a chess engine to support our bot if the bot will otherwise make an illegal move; we need to log illegal moves and prevent that from happening in the future\n",
    "engine = chess.engine.SimpleEngine.popen_uci(\"/usr/local/bin/stockfish\")"
   ]
  },
  {
   "cell_type": "code",
   "execution_count": null,
   "metadata": {},
   "outputs": [],
   "source": [
    "def bot_vs_human(starting_pgn=''):\n",
    "    first_bad_move = -1\n",
    "    # run inference loop\n",
    "    game_str = starting_pgn\n",
    "    bot_move = ''\n",
    "    board = chess.Board()\n",
    "\n",
    "    for move in game_str.split():\n",
    "        board.push_san(move)\n",
    "\n",
    "\n",
    "    illegal_moves = []\n",
    "    vis.display(board)\n",
    "    bot_move_count = 0\n",
    "    while True:\n",
    "        #print(game_str)\n",
    "        user_move = input('Enter move: ')\n",
    "        \n",
    "        if user_move == \"resign\":\n",
    "            break\n",
    "        else:\n",
    "            assert board.parse_san(user_move) in board.legal_moves\n",
    "            game_str += user_move + ' '\n",
    "            board.push_san(user_move)\n",
    "        \n",
    "        if board.is_checkmate():\n",
    "            display(\"CHECKMATE, PLAYER WINS\")\n",
    "            break\n",
    "\n",
    "        vis.clear_output()\n",
    "        vis.display(board)\n",
    "\n",
    "        \n",
    "\n",
    "        bot_move = ''\n",
    "        while not bot_move.endswith(' '):\n",
    "            pred = get_prediction(game_str + bot_move)\n",
    "            bot_move += pred\n",
    "        bot_move_count += 1\n",
    "        try:\n",
    "            board.push_san(bot_move[:-1])\n",
    "            illegal_moves.append(0)\n",
    "        except ValueError:\n",
    "            illegal_moves.append(1)\n",
    "            vis.display(\"ALERT ALERT ALERT: Bot move was illegal.  Computer move substituted.\")\n",
    "            bot_move = engine.play(board, chess.engine.Limit(time=5))\n",
    "            bot_move_str = board.san(bot_move.move) + \" \"\n",
    "            board.push(bot_move.move)\n",
    "            bot_move = bot_move_str\n",
    "            if first_bad_move == -1: first_bad_move = bot_move_count\n",
    "\n",
    "        if board.is_checkmate():\n",
    "            display(\"CHECKMATE, BOT WINS\")\n",
    "            break\n",
    "\n",
    "        #print('Bot plays: {}'.format(bot_move))\n",
    "        game_str += bot_move\n",
    "        vis.clear_output()\n",
    "        vis.display(board)\n",
    "\n",
    "    return (game_str, illegal_moves, first_bad_move)"
   ]
  },
  {
   "cell_type": "code",
   "execution_count": null,
   "metadata": {},
   "outputs": [],
   "source": [
    "def bot_vs_stockfish(starting_pgn='', display_board=True):\n",
    "    first_bad_move = -1\n",
    "    # run inference loop\n",
    "    game_str = starting_pgn\n",
    "    bot_move = ''\n",
    "    board = chess.Board()\n",
    "\n",
    "    for move in game_str.split():\n",
    "        board.push_san(move)\n",
    "\n",
    "    illegal_moves = []\n",
    "    if display_board:\n",
    "        vis.display(board)\n",
    "    bot_move_count = 0\n",
    "    while True:\n",
    "        #print(game_str)\n",
    "        comp_move = engine.play(board, chess.engine.Limit(time=0.05))\n",
    "        game_str += board.san(comp_move.move) + ' '\n",
    "        board.push(comp_move.move)\n",
    "        \n",
    "        if board.is_checkmate():\n",
    "            if display_board:\n",
    "                vis.clear_output()\n",
    "                vis.display(board)\n",
    "                display(\"CHECKMATE, STOCKFISH WINS\")\n",
    "            break\n",
    "        if display_board:\n",
    "            vis.clear_output()\n",
    "            vis.display(board)\n",
    "\n",
    "\n",
    "        bot_move = ''\n",
    "        resigns = False\n",
    "        while not bot_move.endswith(' '):\n",
    "            # handle cases where game str is larger than block size\n",
    "            if len(game_str) >= 511:\n",
    "                if display_board:\n",
    "                    vis.display(\"ALERT: Game string too long.  ChEPT resigns.\")\n",
    "                    vis.clear_output()\n",
    "                    vis.display(board)\n",
    "                    display(\"CHECKMATE, CHePT RESIGNS\")\n",
    "                resigns = True\n",
    "                break\n",
    "                \n",
    "            pred = get_prediction(game_str + bot_move)\n",
    "            bot_move += pred\n",
    "\n",
    "        if resigns: break\n",
    "        bot_move_count += 1\n",
    "        try:\n",
    "            board.push_san(bot_move[:-1])\n",
    "            illegal_moves.append(0)\n",
    "        except ValueError:\n",
    "            illegal_moves.append(1)\n",
    "            if display_board:\n",
    "                vis.display(\"ALERT ALERT ALERT: Bot move was illegal.  Computer move substituted.\")\n",
    "            bot_move = engine.play(board, chess.engine.Limit(time=0.05))\n",
    "            bot_move_str = board.san(bot_move.move) + \" \"\n",
    "            board.push(bot_move.move)\n",
    "            bot_move = bot_move_str\n",
    "            if first_bad_move == -1: first_bad_move = bot_move_count\n",
    "\n",
    "        if board.is_checkmate():\n",
    "            if display_board:\n",
    "                vis.clear_output()\n",
    "                vis.display(board)\n",
    "                display(\"CHECKMATE, BOT WINS\")\n",
    "            break\n",
    "\n",
    "        #print('Bot plays: {}'.format(bot_move))\n",
    "        game_str += bot_move\n",
    "        if display_board:\n",
    "            vis.clear_output()\n",
    "            vis.display(board)\n",
    "\n",
    "    return (game_str, illegal_moves, first_bad_move)"
   ]
  },
  {
   "cell_type": "code",
   "execution_count": null,
   "metadata": {},
   "outputs": [],
   "source": [
    "num_illegal_moves = []\n",
    "first_illegal_move = []\n",
    "total_black_moves = []\n",
    "for i in tqdm(range(1000)):\n",
    "    game_str, illegal_moves, first_bad_move = bot_vs_stockfish(display_board=False)\n",
    "    black_moves = int(len(game_str.split()) / 2)\n",
    "    total_black_moves.append(black_moves)\n",
    "    first_illegal_move.append(first_bad_move)\n",
    "    num_illegal_moves.append(sum(illegal_moves))"
   ]
  },
  {
   "cell_type": "code",
   "execution_count": null,
   "metadata": {},
   "outputs": [],
   "source": [
    "z = np.array(first_illegal_move)\n",
    "curated_first_illegal = z[z != -1]\n",
    "\n",
    "print(f'Analyzed {i + 1} games...')\n",
    "print('On average, ChePT made:')\n",
    "print(f'\\t\\t\\t{int(np.mean(total_black_moves))} moves per game.')\n",
    "print(f'\\t\\t\\tFirst illegal move on move {int(np.mean(curated_first_illegal))}.')\n",
    "print(f'\\t\\t\\t{int(np.mean(num_illegal_moves))} illegal moves per game.')\n",
    "\n",
    "print('')\n",
    "percent = np.round(np.mean(np.array(num_illegal_moves) / np.array(total_black_moves)), 4) * 100\n",
    "print(f'ChePT makes an illegal move {percent}% of the time')"
   ]
  },
  {
   "cell_type": "code",
   "execution_count": null,
   "metadata": {},
   "outputs": [],
   "source": [
    "game_str, illegal_moves, first_bad_move = bot_vs_human()\n",
    "vis.display(game_str)\n",
    "vis.display(illegal_moves)\n",
    "black_moves = int(len(game_str.split()) / 2)\n",
    "white_moves = int((len(game_str.split()) + 1) / 2)\n",
    "vis.display(\"Num Black Moves:\", black_moves)\n",
    "vis.display(\"Num White Moves:\", white_moves)\n",
    "vis.display(\"First Illegal Move:\", first_bad_move)\n",
    "vis.display(\"Total Illlegal Moves:\", sum(illegal_moves))"
   ]
  },
  {
   "cell_type": "code",
   "execution_count": null,
   "metadata": {},
   "outputs": [],
   "source": []
  }
 ],
 "metadata": {
  "kernelspec": {
   "display_name": "Python 3",
   "language": "python",
   "name": "python3"
  },
  "language_info": {
   "codemirror_mode": {
    "name": "ipython",
    "version": 3
   },
   "file_extension": ".py",
   "mimetype": "text/x-python",
   "name": "python",
   "nbconvert_exporter": "python",
   "pygments_lexer": "ipython3",
   "version": "3.8.5"
  }
 },
 "nbformat": 4,
 "nbformat_minor": 2
}
