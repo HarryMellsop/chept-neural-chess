{
 "metadata": {
  "language_info": {
   "codemirror_mode": {
    "name": "ipython",
    "version": 3
   },
   "file_extension": ".py",
   "mimetype": "text/x-python",
   "name": "python",
   "nbconvert_exporter": "python",
   "pygments_lexer": "ipython3",
   "version": "3.7.9-final"
  },
  "orig_nbformat": 2,
  "kernelspec": {
   "name": "python3",
   "display_name": "Python 3.7.9 64-bit ('local_nmt': conda)",
   "metadata": {
    "interpreter": {
     "hash": "50e8bef010edf39a362d180da5b64114e8e10dd5e932d1f1ca3ede0c194299a1"
    }
   }
  }
 },
 "nbformat": 4,
 "nbformat_minor": 2,
 "cells": [
  {
   "cell_type": "code",
   "execution_count": 50,
   "metadata": {},
   "outputs": [],
   "source": [
    "import chess\n",
    "import numpy as np\n",
    "import torch\n",
    "import torch.nn as nn\n",
    "from tqdm import tqdm\n",
    "from torch.nn import functional as F\n",
    "import random\n",
    "import dataset\n",
    "import model\n",
    "import trainer\n",
    "import utils\n",
    "import dataset\n",
    "import pickle\n",
    "import IPython.display as vis\n",
    "import chess.engine"
   ]
  },
  {
   "cell_type": "code",
   "execution_count": 51,
   "metadata": {},
   "outputs": [],
   "source": [
    "vocab_size = 30\n",
    "block_size = 512\n",
    "device = torch.cuda.current_device() if torch.cuda.is_available() else 'cpu'"
   ]
  },
  {
   "cell_type": "code",
   "execution_count": 52,
   "metadata": {},
   "outputs": [
    {
     "output_type": "stream",
     "name": "stdout",
     "text": [
      "Data has 592386175 characters, 30 unique.\n",
      "30\n",
      "30\n",
      "{'□': 0, '\\n': 1, ' ': 2, '#': 3, '+': 4, '-': 5, '1': 6, '2': 7, '3': 8, '4': 9, '5': 10, '6': 11, '7': 12, '8': 13, '=': 14, 'B': 15, 'K': 16, 'N': 17, 'O': 18, 'Q': 19, 'R': 20, 'a': 21, 'b': 22, 'c': 23, 'd': 24, 'e': 25, 'f': 26, 'g': 27, 'h': 28, 'x': 29}\n"
     ]
    }
   ],
   "source": [
    "games = open('data/datasets-cleaned/kingbase_cleaned.txt').read()\n",
    "pretrain_dataset = dataset.PretrainDataset(games, block_size=block_size)\n",
    "\n",
    "print(len(pretrain_dataset.stoi))\n",
    "print(len(pretrain_dataset.itos))\n",
    "print(pretrain_dataset.stoi)"
   ]
  },
  {
   "cell_type": "code",
   "execution_count": 53,
   "metadata": {},
   "outputs": [
    {
     "output_type": "stream",
     "name": "stdout",
     "text": [
      "Number of parameters: 2452736\n"
     ]
    },
    {
     "output_type": "execute_result",
     "data": {
      "text/plain": [
       "<All keys matched successfully>"
      ]
     },
     "metadata": {},
     "execution_count": 53
    }
   ],
   "source": [
    "# build model config\n",
    "mconf = model.GPTConfig(\n",
    "    vocab_size=vocab_size, \n",
    "    block_size=block_size, \n",
    "    n_layer=12, \n",
    "    n_head=32, \n",
    "    n_embd=128\n",
    ")\n",
    "\n",
    "# load model weights\n",
    "model = model.GPT(mconf)\n",
    "model.load_state_dict(torch.load('ckpt/model.iter.params', map_location=torch.device('cpu')))"
   ]
  },
  {
   "cell_type": "code",
   "execution_count": 54,
   "metadata": {},
   "outputs": [
    {
     "output_type": "stream",
     "name": "stdout",
     "text": [
      "30\n30\n"
     ]
    }
   ],
   "source": [
    "# load dataset\n",
    "with open('cache/stoi.pkl', 'rb') as f: \n",
    "    stoi = pickle.load(f)\n",
    "    print(len(stoi))\n",
    "with open('cache/itos.pkl', 'rb') as f:\n",
    "    itos = pickle.load(f)\n",
    "    print(len(itos))"
   ]
  },
  {
   "cell_type": "code",
   "execution_count": 55,
   "metadata": {},
   "outputs": [],
   "source": [
    "def get_prediction(game_str):\n",
    "\n",
    "    x = game_str\n",
    "    x = torch.tensor([stoi[s] for s in x], dtype=torch.long)\n",
    "    x = x.view(1, -1)\n",
    "\n",
    "    model.eval()\n",
    "    with torch.no_grad():\n",
    "\n",
    "        logits, _ = model(x)\n",
    "        logits = torch.squeeze(logits)\n",
    "        y_hat = torch.argmax(logits, dim=-1)\n",
    "        y_hat = [itos[t.item()] for t in y_hat]\n",
    "\n",
    "    pred = y_hat[len(game_str) - 1]\n",
    "    return pred"
   ]
  },
  {
   "cell_type": "code",
   "execution_count": 64,
   "metadata": {},
   "outputs": [],
   "source": [
    "def bot_vs_human(starting_pgn=''):\n",
    "    first_bad_move = -1\n",
    "    # run inference loop\n",
    "    game_str = starting_pgn\n",
    "    bot_move = ''\n",
    "    board = chess.Board()\n",
    "\n",
    "    for move in game_str.split():\n",
    "        board.push_san(move)\n",
    "\n",
    "\n",
    "    # declare a chess engine to support our bot if the bot will otherwise make an illegal move; we need to log illegal moves and prevent that from happening in the future\n",
    "    engine = chess.engine.SimpleEngine.popen_uci(\"/usr/local/bin/stockfish\")\n",
    "    illegal_moves = []\n",
    "    vis.display(board)\n",
    "    bot_move_count = 0\n",
    "    while True:\n",
    "        #print(game_str)\n",
    "        user_move = input('Enter move: ')\n",
    "        \n",
    "        if user_move == \"resign\":\n",
    "            break\n",
    "        else:\n",
    "            assert board.parse_san(user_move) in board.legal_moves\n",
    "            game_str += user_move + ' '\n",
    "            board.push_san(user_move)\n",
    "        \n",
    "        if board.is_checkmate():\n",
    "            display(\"CHECKMATE, PLAYER WINS\")\n",
    "            break\n",
    "\n",
    "        vis.clear_output()\n",
    "        vis.display(board)\n",
    "\n",
    "        \n",
    "\n",
    "        bot_move = ''\n",
    "        while not bot_move.endswith(' '):\n",
    "            pred = get_prediction(game_str + bot_move)\n",
    "            bot_move += pred\n",
    "        bot_move_count += 1\n",
    "        try:\n",
    "            board.push_san(bot_move[:-1])\n",
    "            illegal_moves.append(0)\n",
    "        except ValueError:\n",
    "            illegal_moves.append(1)\n",
    "            vis.display(\"ALERT ALERT ALERT: Bot move was illegal.  Computer move substituted.\")\n",
    "            bot_move = engine.play(board, chess.engine.Limit(time=5))\n",
    "            bot_move_str = board.san(bot_move.move) + \" \"\n",
    "            board.push(bot_move.move)\n",
    "            bot_move = bot_move_str\n",
    "            if first_bad_move == -1: first_bad_move = bot_move_count\n",
    "\n",
    "        if board.is_checkmate():\n",
    "            display(\"CHECKMATE, BOT WINS\")\n",
    "            break\n",
    "\n",
    "        #print('Bot plays: {}'.format(bot_move))\n",
    "        game_str += bot_move\n",
    "        vis.clear_output()\n",
    "        vis.display(board)\n",
    "\n",
    "    return (game_str, illegal_moves, first_bad_move)"
   ]
  },
  {
   "cell_type": "code",
   "execution_count": 65,
   "metadata": {},
   "outputs": [],
   "source": [
    "def bot_vs_stockfish(starting_pgn=''):\n",
    "    first_bad_move = -1\n",
    "    # run inference loop\n",
    "    game_str = starting_pgn\n",
    "    bot_move = ''\n",
    "    board = chess.Board()\n",
    "\n",
    "    for move in game_str.split():\n",
    "        board.push_san(move)\n",
    "\n",
    "\n",
    "    # declare a chess engine to support our bot if the bot will otherwise make an illegal move; we need to log illegal moves and prevent that from happening in the future\n",
    "    engine = chess.engine.SimpleEngine.popen_uci(\"/usr/local/bin/stockfish\")\n",
    "    illegal_moves = []\n",
    "    vis.display(board)\n",
    "    bot_move_count = 0\n",
    "    while True:\n",
    "        #print(game_str)\n",
    "        comp_move = engine.play(board, chess.engine.Limit(time=0.5))\n",
    "        game_str += board.san(comp_move.move) + ' '\n",
    "        board.push(comp_move.move)\n",
    "        \n",
    "        if board.is_checkmate():\n",
    "            vis.clear_output()\n",
    "            vis.display(board)\n",
    "            display(\"CHECKMATE, STOCKFISH WINS\")\n",
    "            break\n",
    "\n",
    "        vis.clear_output()\n",
    "        vis.display(board)\n",
    "\n",
    "        \n",
    "\n",
    "        bot_move = ''\n",
    "        while not bot_move.endswith(' '):\n",
    "            pred = get_prediction(game_str + bot_move)\n",
    "            bot_move += pred\n",
    "        bot_move_count += 1\n",
    "        try:\n",
    "            board.push_san(bot_move[:-1])\n",
    "            illegal_moves.append(0)\n",
    "        except ValueError:\n",
    "            illegal_moves.append(1)\n",
    "            vis.display(\"ALERT ALERT ALERT: Bot move was illegal.  Computer move substituted.\")\n",
    "            bot_move = engine.play(board, chess.engine.Limit(time=0.1))\n",
    "            bot_move_str = board.san(bot_move.move) + \" \"\n",
    "            board.push(bot_move.move)\n",
    "            bot_move = bot_move_str\n",
    "            if first_bad_move == -1: first_bad_move = bot_move_count\n",
    "\n",
    "        if board.is_checkmate():\n",
    "            vis.clear_output()\n",
    "            vis.display(board)\n",
    "            display(\"CHECKMATE, BOT WINS\")\n",
    "            break\n",
    "\n",
    "        #print('Bot plays: {}'.format(bot_move))\n",
    "        game_str += bot_move\n",
    "        vis.clear_output()\n",
    "        vis.display(board)\n",
    "\n",
    "    return (game_str, illegal_moves, first_bad_move)"
   ]
  },
  {
   "source": [
    "game_str, illegal_moves, first_bad_move = bot_vs_stockfish()\n",
    "vis.display(game_str)\n",
    "vis.display(illegal_moves)\n",
    "black_moves = int(len(game_str.split()) / 2)\n",
    "white_moves = int((len(game_str.split()) + 1) / 2)\n",
    "vis.display(\"Num Black Moves:\", black_moves)\n",
    "vis.display(\"Num White Moves:\", white_moves)\n",
    "vis.display(\"First Illegal Move:\", first_bad_move)\n",
    "vis.display(\"Total illegal Moves:\", sum(illegal_moves))"
   ],
   "cell_type": "markdown",
   "metadata": {}
  },
  {
   "cell_type": "code",
   "execution_count": null,
   "metadata": {},
   "outputs": [],
   "source": []
  }
 ]
}