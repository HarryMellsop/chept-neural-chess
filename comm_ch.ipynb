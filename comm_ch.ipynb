{
 "metadata": {
  "language_info": {
   "codemirror_mode": {
    "name": "ipython",
    "version": 3
   },
   "file_extension": ".py",
   "mimetype": "text/x-python",
   "name": "python",
   "nbconvert_exporter": "python",
   "pygments_lexer": "ipython3",
   "version": "3.7.9-final"
  },
  "orig_nbformat": 2,
  "kernelspec": {
   "name": "python3",
   "display_name": "Python 3.7.9 64-bit ('local_nmt': conda)",
   "metadata": {
    "interpreter": {
     "hash": "15aac834d94b659c443874b0b437a21c6c17deb398b3f631f85c2f216c7d9b51"
    }
   }
  }
 },
 "nbformat": 4,
 "nbformat_minor": 2,
 "cells": [
  {
   "cell_type": "code",
   "execution_count": 19,
   "metadata": {},
   "outputs": [],
   "source": [
    "import numpy as np\n",
    "import json\n",
    "import tqdm"
   ]
  },
  {
   "cell_type": "code",
   "execution_count": 20,
   "metadata": {},
   "outputs": [],
   "source": [
    "with open('commentary_results/commentary_final_score_eval.json', 'r') as f:\n",
    "\n",
    "    eval_dict = json.load(f)"
   ]
  },
  {
   "cell_type": "code",
   "execution_count": 26,
   "metadata": {},
   "outputs": [
    {
     "output_type": "stream",
     "name": "stdout",
     "text": [
      "dict_keys(['BLEU Scores', 'Average BLEU', 'Sentences', 'Sentence Lengths', 'PGNs'])\n"
     ]
    }
   ],
   "source": [
    "print(eval_dict.keys())"
   ]
  },
  {
   "cell_type": "code",
   "execution_count": 25,
   "metadata": {},
   "outputs": [],
   "source": [
    "moves = eval_dict['PGNs']\n",
    "BLEU_scores = eval_dict['BLEU Scores']"
   ]
  },
  {
   "cell_type": "code",
   "execution_count": 44,
   "metadata": {},
   "outputs": [],
   "source": [
    "early = list(range(16))\n",
    "mid = list(range(16, 32))\n",
    "late = list(range(32, 1000))"
   ]
  },
  {
   "cell_type": "code",
   "execution_count": 45,
   "metadata": {},
   "outputs": [],
   "source": [
    "early_BLEU = []\n",
    "mid_BLEU = []\n",
    "late_BLEU = []"
   ]
  },
  {
   "cell_type": "code",
   "execution_count": 46,
   "metadata": {},
   "outputs": [
    {
     "output_type": "stream",
     "name": "stderr",
     "text": [
      "51158it [00:00, 300725.57it/s]\n"
     ]
    }
   ],
   "source": [
    "for n, pgn in tqdm.tqdm(enumerate(moves)):\n",
    "    length = len(pgn.split(' ')) - 1\n",
    "    BLEU = BLEU_scores[n]\n",
    "    if length in early:\n",
    "        early_BLEU.append(BLEU)\n",
    "    elif length in mid:\n",
    "        mid_BLEU.append(BLEU)\n",
    "    else:\n",
    "        late_BLEU.append(BLEU)"
   ]
  },
  {
   "cell_type": "code",
   "execution_count": 50,
   "metadata": {},
   "outputs": [],
   "source": [
    "avg_early = np.array(early_BLEU).mean()\n",
    "avg_mid = np.array(mid_BLEU).mean()\n",
    "avg_late = np.array(late_BLEU).mean()"
   ]
  },
  {
   "cell_type": "code",
   "execution_count": 51,
   "metadata": {},
   "outputs": [
    {
     "output_type": "stream",
     "name": "stdout",
     "text": [
      "Early game BLEU:  2.7081839227909853e-05\nMid game BLEU:  1.0651381187069257e-05\nLate game BLEU:  2.011148242892769e-07\n"
     ]
    }
   ],
   "source": [
    "print('Early game BLEU: ', avg_early)\n",
    "print('Mid game BLEU: ', avg_mid)\n",
    "print('Late game BLEU: ', avg_late)"
   ]
  },
  {
   "cell_type": "code",
   "execution_count": 52,
   "metadata": {},
   "outputs": [],
   "source": [
    "med_early = np.median(np.array(early_BLEU))\n",
    "med_mid = np.median(np.array(mid_BLEU))\n",
    "med_late = np.median(np.array(late_BLEU))"
   ]
  },
  {
   "cell_type": "code",
   "execution_count": 53,
   "metadata": {},
   "outputs": [
    {
     "output_type": "stream",
     "name": "stdout",
     "text": [
      "Early game median BLEU:  3.9977270595815295e-11\nMid game median BLEU:  4.0341101701202584e-11\nLate game median BLEU:  4.0341101701202584e-11\n"
     ]
    }
   ],
   "source": [
    "print('Early game median BLEU: ', med_early)\n",
    "print('Mid game median BLEU: ', med_mid)\n",
    "print('Late game median BLEU: ', med_late)"
   ]
  }
 ]
}